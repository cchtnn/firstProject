{
 "cells": [
  {
   "cell_type": "code",
   "execution_count": 1,
   "metadata": {},
   "outputs": [],
   "source": [
    "import pandas as pd\n",
    "#from openpyxl import load_workbook\n",
    "import xlrd\n",
    "from win32com.client import Dispatch\n",
    "from openpyxl.reader.excel import load_workbook"
   ]
  },
  {
   "cell_type": "markdown",
   "metadata": {},
   "source": [
    "# please refer the below logic. "
   ]
  },
  {
   "cell_type": "code",
   "execution_count": 6,
   "metadata": {},
   "outputs": [
    {
     "name": "stdout",
     "output_type": "stream",
     "text": [
      "2\n",
      "Values must be of type <class 'str'>\n"
     ]
    }
   ],
   "source": [
    "# not giving correct values  \n",
    "from openpyxl import load_workbook\n",
    "from openpyxl.styles import Font\n",
    "wb = load_workbook('abc.xlsx')\n",
    "sheet0 = wb['Tabelle1']\n",
    "print(sheet0[\"B2\"].value) # the  is green color , if you check in abc.xlsx attached on gitgub page)\n",
    "print(sheet0['B2'].font.color.rgb)"
   ]
  },
  {
   "cell_type": "code",
   "execution_count": null,
   "metadata": {},
   "outputs": [],
   "source": []
  },
  {
   "cell_type": "code",
   "execution_count": null,
   "metadata": {},
   "outputs": [],
   "source": []
  },
  {
   "cell_type": "code",
   "execution_count": null,
   "metadata": {},
   "outputs": [],
   "source": [
    "# these many logic i have implemented but nothing worked ."
   ]
  },
  {
   "cell_type": "code",
   "execution_count": 3,
   "metadata": {},
   "outputs": [
    {
     "name": "stdout",
     "output_type": "stream",
     "text": [
      "00000000\n",
      "00FFFFFF\n",
      "00FF0000\n",
      "0000FF00\n",
      "000000FF\n",
      "00FFFF00\n",
      "00FF00FF\n",
      "0000FFFF\n",
      "00000000\n",
      "00FFFFFF\n",
      "00FF0000\n",
      "0000FF00\n",
      "000000FF\n",
      "00FFFF00\n",
      "00FF00FF\n",
      "0000FFFF\n",
      "00800000\n",
      "00008000\n",
      "00000080\n",
      "00808000\n",
      "00800080\n",
      "00008080\n",
      "00C0C0C0\n",
      "00808080\n",
      "009999FF\n",
      "00993366\n",
      "00FFFFCC\n",
      "00CCFFFF\n",
      "00660066\n",
      "00FF8080\n",
      "000066CC\n",
      "00CCCCFF\n",
      "00000080\n",
      "00FF00FF\n",
      "00FFFF00\n",
      "0000FFFF\n",
      "00800080\n",
      "00800000\n",
      "00008080\n",
      "000000FF\n",
      "0000CCFF\n",
      "00CCFFFF\n",
      "00CCFFCC\n",
      "00FFFF99\n",
      "0099CCFF\n",
      "00FF99CC\n",
      "00CC99FF\n",
      "00FFCC99\n",
      "003366FF\n",
      "0033CCCC\n",
      "0099CC00\n",
      "00FFCC00\n",
      "00FF9900\n",
      "00FF6600\n",
      "00666699\n",
      "00969696\n",
      "00003366\n",
      "00339966\n",
      "00003300\n",
      "00333300\n",
      "00993300\n",
      "00993366\n",
      "00333399\n",
      "00333333\n",
      "System Foreground\n",
      "System Background\n"
     ]
    }
   ],
   "source": [
    "# value not as expected\n",
    "from openpyxl import styles\n",
    "from openpyxl.styles import PatternFill, Border, Side, Alignment, Protection, Font\n",
    "wb = load_workbook('abc.xlsx', data_only=True)\n",
    "sh = wb['Tabelle1']\n",
    "i=sh['A2'].fill.start_color.index #Green Color\n",
    "Colors=styles.colors.COLOR_INDEX\n",
    "#result = str(Colors[i])\n",
    "#result= \"#\"+result[2:]\n",
    "a = list(i)\n",
    "#print(Colors)\n",
    "for i in Colors:\n",
    "    print(i)"
   ]
  },
  {
   "cell_type": "code",
   "execution_count": 5,
   "metadata": {},
   "outputs": [
    {
     "name": "stdout",
     "output_type": "stream",
     "text": [
      "HEX = 00000000\n",
      "RGB = (0, 0, 0)\n"
     ]
    }
   ],
   "source": [
    "# not giving correct values \n",
    "import openpyxl\n",
    "from openpyxl import load_workbook\n",
    "excel_file = 'abc.xlsx' \n",
    "wb = load_workbook(r'abc.xlsx', data_only = True)\n",
    "sh = wb['Tabelle1']\n",
    "color_in_hex = sh['B2'].fill.start_color.index # this gives you Hexadecimal value of the color\n",
    "print ('HEX =',color_in_hex) \n",
    "print('RGB =', tuple(int(color_in_hex[i:i+2], 16) for i in (0, 2, 4))) # Color in RG"
   ]
  },
  {
   "cell_type": "code",
   "execution_count": null,
   "metadata": {
    "collapsed": true
   },
   "outputs": [],
   "source": []
  }
 ],
 "metadata": {
  "kernelspec": {
   "display_name": "Python 3",
   "language": "python",
   "name": "python3"
  },
  "language_info": {
   "codemirror_mode": {
    "name": "ipython",
    "version": 3
   },
   "file_extension": ".py",
   "mimetype": "text/x-python",
   "name": "python",
   "nbconvert_exporter": "python",
   "pygments_lexer": "ipython3",
   "version": "3.7.6"
  }
 },
 "nbformat": 4,
 "nbformat_minor": 2
}
